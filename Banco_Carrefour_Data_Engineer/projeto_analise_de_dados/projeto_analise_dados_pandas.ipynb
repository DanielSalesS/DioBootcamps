{
  "cells": [
    {
      "cell_type": "code",
      "execution_count": 46,
      "metadata": {
        "id": "NwR2sykw9Fw5"
      },
      "outputs": [],
      "source": [
        "# Importando as bibliotecas\n",
        "import pandas as pd\n",
        "import matplotlib.pyplot as plt\n",
        "import seaborn as sns\n",
        "plt.style.use(\"seaborn\")\n"
      ]
    },
    {
      "cell_type": "code",
      "execution_count": 47,
      "metadata": {
        "id": "yJakM9-H9Smt"
      },
      "outputs": [],
      "source": [
        "# Criando o DataFrame\n",
        "df = pd.read_csv(\"data/application_record.csv\")\n"
      ]
    },
    {
      "cell_type": "code",
      "execution_count": 48,
      "metadata": {
        "colab": {
          "base_uri": "https://localhost:8080/",
          "height": 275
        },
        "id": "kDbfl7RF9StA",
        "outputId": "63a69066-5a54-48c5-c724-3cc42c35dc37"
      },
      "outputs": [
        {
          "data": {
            "text/html": [
              "<div>\n",
              "<style scoped>\n",
              "    .dataframe tbody tr th:only-of-type {\n",
              "        vertical-align: middle;\n",
              "    }\n",
              "\n",
              "    .dataframe tbody tr th {\n",
              "        vertical-align: top;\n",
              "    }\n",
              "\n",
              "    .dataframe thead th {\n",
              "        text-align: right;\n",
              "    }\n",
              "</style>\n",
              "<table border=\"1\" class=\"dataframe\">\n",
              "  <thead>\n",
              "    <tr style=\"text-align: right;\">\n",
              "      <th></th>\n",
              "      <th>ID</th>\n",
              "      <th>CODE_GENDER</th>\n",
              "      <th>FLAG_OWN_CAR</th>\n",
              "      <th>FLAG_OWN_REALTY</th>\n",
              "      <th>CNT_CHILDREN</th>\n",
              "      <th>AMT_INCOME_TOTAL</th>\n",
              "      <th>NAME_INCOME_TYPE</th>\n",
              "      <th>NAME_EDUCATION_TYPE</th>\n",
              "      <th>NAME_FAMILY_STATUS</th>\n",
              "      <th>NAME_HOUSING_TYPE</th>\n",
              "      <th>DAYS_BIRTH</th>\n",
              "      <th>DAYS_EMPLOYED</th>\n",
              "      <th>FLAG_MOBIL</th>\n",
              "      <th>FLAG_WORK_PHONE</th>\n",
              "      <th>FLAG_PHONE</th>\n",
              "      <th>FLAG_EMAIL</th>\n",
              "      <th>OCCUPATION_TYPE</th>\n",
              "      <th>CNT_FAM_MEMBERS</th>\n",
              "    </tr>\n",
              "  </thead>\n",
              "  <tbody>\n",
              "    <tr>\n",
              "      <th>0</th>\n",
              "      <td>5008804</td>\n",
              "      <td>M</td>\n",
              "      <td>Y</td>\n",
              "      <td>Y</td>\n",
              "      <td>0</td>\n",
              "      <td>427500.0</td>\n",
              "      <td>Working</td>\n",
              "      <td>Higher education</td>\n",
              "      <td>Civil marriage</td>\n",
              "      <td>Rented apartment</td>\n",
              "      <td>-12005</td>\n",
              "      <td>-4542</td>\n",
              "      <td>1</td>\n",
              "      <td>1</td>\n",
              "      <td>0</td>\n",
              "      <td>0</td>\n",
              "      <td>NaN</td>\n",
              "      <td>2.0</td>\n",
              "    </tr>\n",
              "    <tr>\n",
              "      <th>1</th>\n",
              "      <td>5008805</td>\n",
              "      <td>M</td>\n",
              "      <td>Y</td>\n",
              "      <td>Y</td>\n",
              "      <td>0</td>\n",
              "      <td>427500.0</td>\n",
              "      <td>Working</td>\n",
              "      <td>Higher education</td>\n",
              "      <td>Civil marriage</td>\n",
              "      <td>Rented apartment</td>\n",
              "      <td>-12005</td>\n",
              "      <td>-4542</td>\n",
              "      <td>1</td>\n",
              "      <td>1</td>\n",
              "      <td>0</td>\n",
              "      <td>0</td>\n",
              "      <td>NaN</td>\n",
              "      <td>2.0</td>\n",
              "    </tr>\n",
              "    <tr>\n",
              "      <th>2</th>\n",
              "      <td>5008806</td>\n",
              "      <td>M</td>\n",
              "      <td>Y</td>\n",
              "      <td>Y</td>\n",
              "      <td>0</td>\n",
              "      <td>112500.0</td>\n",
              "      <td>Working</td>\n",
              "      <td>Secondary / secondary special</td>\n",
              "      <td>Married</td>\n",
              "      <td>House / apartment</td>\n",
              "      <td>-21474</td>\n",
              "      <td>-1134</td>\n",
              "      <td>1</td>\n",
              "      <td>0</td>\n",
              "      <td>0</td>\n",
              "      <td>0</td>\n",
              "      <td>Security staff</td>\n",
              "      <td>2.0</td>\n",
              "    </tr>\n",
              "    <tr>\n",
              "      <th>3</th>\n",
              "      <td>5008808</td>\n",
              "      <td>F</td>\n",
              "      <td>N</td>\n",
              "      <td>Y</td>\n",
              "      <td>0</td>\n",
              "      <td>270000.0</td>\n",
              "      <td>Commercial associate</td>\n",
              "      <td>Secondary / secondary special</td>\n",
              "      <td>Single / not married</td>\n",
              "      <td>House / apartment</td>\n",
              "      <td>-19110</td>\n",
              "      <td>-3051</td>\n",
              "      <td>1</td>\n",
              "      <td>0</td>\n",
              "      <td>1</td>\n",
              "      <td>1</td>\n",
              "      <td>Sales staff</td>\n",
              "      <td>1.0</td>\n",
              "    </tr>\n",
              "    <tr>\n",
              "      <th>4</th>\n",
              "      <td>5008809</td>\n",
              "      <td>F</td>\n",
              "      <td>N</td>\n",
              "      <td>Y</td>\n",
              "      <td>0</td>\n",
              "      <td>270000.0</td>\n",
              "      <td>Commercial associate</td>\n",
              "      <td>Secondary / secondary special</td>\n",
              "      <td>Single / not married</td>\n",
              "      <td>House / apartment</td>\n",
              "      <td>-19110</td>\n",
              "      <td>-3051</td>\n",
              "      <td>1</td>\n",
              "      <td>0</td>\n",
              "      <td>1</td>\n",
              "      <td>1</td>\n",
              "      <td>Sales staff</td>\n",
              "      <td>1.0</td>\n",
              "    </tr>\n",
              "  </tbody>\n",
              "</table>\n",
              "</div>"
            ],
            "text/plain": [
              "        ID CODE_GENDER FLAG_OWN_CAR FLAG_OWN_REALTY  CNT_CHILDREN  \\\n",
              "0  5008804           M            Y               Y             0   \n",
              "1  5008805           M            Y               Y             0   \n",
              "2  5008806           M            Y               Y             0   \n",
              "3  5008808           F            N               Y             0   \n",
              "4  5008809           F            N               Y             0   \n",
              "\n",
              "   AMT_INCOME_TOTAL      NAME_INCOME_TYPE            NAME_EDUCATION_TYPE  \\\n",
              "0          427500.0               Working               Higher education   \n",
              "1          427500.0               Working               Higher education   \n",
              "2          112500.0               Working  Secondary / secondary special   \n",
              "3          270000.0  Commercial associate  Secondary / secondary special   \n",
              "4          270000.0  Commercial associate  Secondary / secondary special   \n",
              "\n",
              "     NAME_FAMILY_STATUS  NAME_HOUSING_TYPE  DAYS_BIRTH  DAYS_EMPLOYED  \\\n",
              "0        Civil marriage   Rented apartment      -12005          -4542   \n",
              "1        Civil marriage   Rented apartment      -12005          -4542   \n",
              "2               Married  House / apartment      -21474          -1134   \n",
              "3  Single / not married  House / apartment      -19110          -3051   \n",
              "4  Single / not married  House / apartment      -19110          -3051   \n",
              "\n",
              "   FLAG_MOBIL  FLAG_WORK_PHONE  FLAG_PHONE  FLAG_EMAIL OCCUPATION_TYPE  \\\n",
              "0           1                1           0           0             NaN   \n",
              "1           1                1           0           0             NaN   \n",
              "2           1                0           0           0  Security staff   \n",
              "3           1                0           1           1     Sales staff   \n",
              "4           1                0           1           1     Sales staff   \n",
              "\n",
              "   CNT_FAM_MEMBERS  \n",
              "0              2.0  \n",
              "1              2.0  \n",
              "2              2.0  \n",
              "3              1.0  \n",
              "4              1.0  "
            ]
          },
          "execution_count": 48,
          "metadata": {},
          "output_type": "execute_result"
        }
      ],
      "source": [
        "# Visualizando as 5 primeiras linhas\n",
        "df.head()\n"
      ]
    },
    {
      "cell_type": "code",
      "execution_count": 49,
      "metadata": {
        "colab": {
          "base_uri": "https://localhost:8080/",
          "height": 359
        },
        "id": "HGXmlQoSiUVf",
        "outputId": "694a997b-2f99-47ac-a633-631b803dad12"
      },
      "outputs": [
        {
          "data": {
            "text/html": [
              "<div>\n",
              "<style scoped>\n",
              "    .dataframe tbody tr th:only-of-type {\n",
              "        vertical-align: middle;\n",
              "    }\n",
              "\n",
              "    .dataframe tbody tr th {\n",
              "        vertical-align: top;\n",
              "    }\n",
              "\n",
              "    .dataframe thead th {\n",
              "        text-align: right;\n",
              "    }\n",
              "</style>\n",
              "<table border=\"1\" class=\"dataframe\">\n",
              "  <thead>\n",
              "    <tr style=\"text-align: right;\">\n",
              "      <th></th>\n",
              "      <th>count</th>\n",
              "      <th>mean</th>\n",
              "      <th>std</th>\n",
              "      <th>min</th>\n",
              "      <th>25%</th>\n",
              "      <th>50%</th>\n",
              "      <th>75%</th>\n",
              "      <th>max</th>\n",
              "    </tr>\n",
              "  </thead>\n",
              "  <tbody>\n",
              "    <tr>\n",
              "      <th>ID</th>\n",
              "      <td>438557.0</td>\n",
              "      <td>6.022176e+06</td>\n",
              "      <td>571637.023257</td>\n",
              "      <td>5008804.0</td>\n",
              "      <td>5609375.0</td>\n",
              "      <td>6047745.0</td>\n",
              "      <td>6456971.0</td>\n",
              "      <td>7999952.0</td>\n",
              "    </tr>\n",
              "    <tr>\n",
              "      <th>CNT_CHILDREN</th>\n",
              "      <td>438557.0</td>\n",
              "      <td>4.273903e-01</td>\n",
              "      <td>0.724882</td>\n",
              "      <td>0.0</td>\n",
              "      <td>0.0</td>\n",
              "      <td>0.0</td>\n",
              "      <td>1.0</td>\n",
              "      <td>19.0</td>\n",
              "    </tr>\n",
              "    <tr>\n",
              "      <th>AMT_INCOME_TOTAL</th>\n",
              "      <td>438557.0</td>\n",
              "      <td>1.875243e+05</td>\n",
              "      <td>110086.853066</td>\n",
              "      <td>26100.0</td>\n",
              "      <td>121500.0</td>\n",
              "      <td>160780.5</td>\n",
              "      <td>225000.0</td>\n",
              "      <td>6750000.0</td>\n",
              "    </tr>\n",
              "    <tr>\n",
              "      <th>DAYS_BIRTH</th>\n",
              "      <td>438557.0</td>\n",
              "      <td>-1.599790e+04</td>\n",
              "      <td>4185.030007</td>\n",
              "      <td>-25201.0</td>\n",
              "      <td>-19483.0</td>\n",
              "      <td>-15630.0</td>\n",
              "      <td>-12514.0</td>\n",
              "      <td>-7489.0</td>\n",
              "    </tr>\n",
              "    <tr>\n",
              "      <th>DAYS_EMPLOYED</th>\n",
              "      <td>438557.0</td>\n",
              "      <td>6.056368e+04</td>\n",
              "      <td>138767.799647</td>\n",
              "      <td>-17531.0</td>\n",
              "      <td>-3103.0</td>\n",
              "      <td>-1467.0</td>\n",
              "      <td>-371.0</td>\n",
              "      <td>365243.0</td>\n",
              "    </tr>\n",
              "    <tr>\n",
              "      <th>FLAG_MOBIL</th>\n",
              "      <td>438557.0</td>\n",
              "      <td>1.000000e+00</td>\n",
              "      <td>0.000000</td>\n",
              "      <td>1.0</td>\n",
              "      <td>1.0</td>\n",
              "      <td>1.0</td>\n",
              "      <td>1.0</td>\n",
              "      <td>1.0</td>\n",
              "    </tr>\n",
              "    <tr>\n",
              "      <th>FLAG_WORK_PHONE</th>\n",
              "      <td>438557.0</td>\n",
              "      <td>2.061328e-01</td>\n",
              "      <td>0.404527</td>\n",
              "      <td>0.0</td>\n",
              "      <td>0.0</td>\n",
              "      <td>0.0</td>\n",
              "      <td>0.0</td>\n",
              "      <td>1.0</td>\n",
              "    </tr>\n",
              "    <tr>\n",
              "      <th>FLAG_PHONE</th>\n",
              "      <td>438557.0</td>\n",
              "      <td>2.877710e-01</td>\n",
              "      <td>0.452724</td>\n",
              "      <td>0.0</td>\n",
              "      <td>0.0</td>\n",
              "      <td>0.0</td>\n",
              "      <td>1.0</td>\n",
              "      <td>1.0</td>\n",
              "    </tr>\n",
              "    <tr>\n",
              "      <th>FLAG_EMAIL</th>\n",
              "      <td>438557.0</td>\n",
              "      <td>1.082071e-01</td>\n",
              "      <td>0.310642</td>\n",
              "      <td>0.0</td>\n",
              "      <td>0.0</td>\n",
              "      <td>0.0</td>\n",
              "      <td>0.0</td>\n",
              "      <td>1.0</td>\n",
              "    </tr>\n",
              "    <tr>\n",
              "      <th>CNT_FAM_MEMBERS</th>\n",
              "      <td>438557.0</td>\n",
              "      <td>2.194465e+00</td>\n",
              "      <td>0.897207</td>\n",
              "      <td>1.0</td>\n",
              "      <td>2.0</td>\n",
              "      <td>2.0</td>\n",
              "      <td>3.0</td>\n",
              "      <td>20.0</td>\n",
              "    </tr>\n",
              "  </tbody>\n",
              "</table>\n",
              "</div>"
            ],
            "text/plain": [
              "                     count          mean            std        min        25%  \\\n",
              "ID                438557.0  6.022176e+06  571637.023257  5008804.0  5609375.0   \n",
              "CNT_CHILDREN      438557.0  4.273903e-01       0.724882        0.0        0.0   \n",
              "AMT_INCOME_TOTAL  438557.0  1.875243e+05  110086.853066    26100.0   121500.0   \n",
              "DAYS_BIRTH        438557.0 -1.599790e+04    4185.030007   -25201.0   -19483.0   \n",
              "DAYS_EMPLOYED     438557.0  6.056368e+04  138767.799647   -17531.0    -3103.0   \n",
              "FLAG_MOBIL        438557.0  1.000000e+00       0.000000        1.0        1.0   \n",
              "FLAG_WORK_PHONE   438557.0  2.061328e-01       0.404527        0.0        0.0   \n",
              "FLAG_PHONE        438557.0  2.877710e-01       0.452724        0.0        0.0   \n",
              "FLAG_EMAIL        438557.0  1.082071e-01       0.310642        0.0        0.0   \n",
              "CNT_FAM_MEMBERS   438557.0  2.194465e+00       0.897207        1.0        2.0   \n",
              "\n",
              "                        50%        75%        max  \n",
              "ID                6047745.0  6456971.0  7999952.0  \n",
              "CNT_CHILDREN            0.0        1.0       19.0  \n",
              "AMT_INCOME_TOTAL   160780.5   225000.0  6750000.0  \n",
              "DAYS_BIRTH         -15630.0   -12514.0    -7489.0  \n",
              "DAYS_EMPLOYED       -1467.0     -371.0   365243.0  \n",
              "FLAG_MOBIL              1.0        1.0        1.0  \n",
              "FLAG_WORK_PHONE         0.0        0.0        1.0  \n",
              "FLAG_PHONE              0.0        1.0        1.0  \n",
              "FLAG_EMAIL              0.0        0.0        1.0  \n",
              "CNT_FAM_MEMBERS         2.0        3.0       20.0  "
            ]
          },
          "execution_count": 49,
          "metadata": {},
          "output_type": "execute_result"
        }
      ],
      "source": [
        "# Estatísticas\n",
        "df.describe().T\n"
      ]
    },
    {
      "cell_type": "code",
      "execution_count": 50,
      "metadata": {
        "colab": {
          "base_uri": "https://localhost:8080/"
        },
        "id": "MtYSxVSm-clF",
        "outputId": "7f71c8f3-f21c-44ba-f9b0-4ad285b15017"
      },
      "outputs": [
        {
          "data": {
            "text/plain": [
              "(438557, 18)"
            ]
          },
          "execution_count": 50,
          "metadata": {},
          "output_type": "execute_result"
        }
      ],
      "source": [
        "# Quantidade de linhas e colunas\n",
        "df.shape\n"
      ]
    },
    {
      "cell_type": "code",
      "execution_count": 51,
      "metadata": {
        "colab": {
          "base_uri": "https://localhost:8080/"
        },
        "id": "FahUA9Vw-fLU",
        "outputId": "9417dc63-a17a-4d60-cf60-799bd8e70d1d"
      },
      "outputs": [
        {
          "data": {
            "text/plain": [
              "ID                       int64\n",
              "CODE_GENDER             object\n",
              "FLAG_OWN_CAR            object\n",
              "FLAG_OWN_REALTY         object\n",
              "CNT_CHILDREN             int64\n",
              "AMT_INCOME_TOTAL       float64\n",
              "NAME_INCOME_TYPE        object\n",
              "NAME_EDUCATION_TYPE     object\n",
              "NAME_FAMILY_STATUS      object\n",
              "NAME_HOUSING_TYPE       object\n",
              "DAYS_BIRTH               int64\n",
              "DAYS_EMPLOYED            int64\n",
              "FLAG_MOBIL               int64\n",
              "FLAG_WORK_PHONE          int64\n",
              "FLAG_PHONE               int64\n",
              "FLAG_EMAIL               int64\n",
              "OCCUPATION_TYPE         object\n",
              "CNT_FAM_MEMBERS        float64\n",
              "dtype: object"
            ]
          },
          "execution_count": 51,
          "metadata": {},
          "output_type": "execute_result"
        }
      ],
      "source": [
        "# Verificando os tipos de dados\n",
        "df.dtypes\n"
      ]
    },
    {
      "cell_type": "code",
      "execution_count": 52,
      "metadata": {
        "colab": {
          "base_uri": "https://localhost:8080/"
        },
        "id": "8fSbIvkt-nz8",
        "outputId": "c9209416-8bcf-4674-93de-b594c089a0e7"
      },
      "outputs": [
        {
          "data": {
            "text/plain": [
              "ID                          0\n",
              "CODE_GENDER                 0\n",
              "FLAG_OWN_CAR                0\n",
              "FLAG_OWN_REALTY             0\n",
              "CNT_CHILDREN                0\n",
              "AMT_INCOME_TOTAL            0\n",
              "NAME_INCOME_TYPE            0\n",
              "NAME_EDUCATION_TYPE         0\n",
              "NAME_FAMILY_STATUS          0\n",
              "NAME_HOUSING_TYPE           0\n",
              "DAYS_BIRTH                  0\n",
              "DAYS_EMPLOYED               0\n",
              "FLAG_MOBIL                  0\n",
              "FLAG_WORK_PHONE             0\n",
              "FLAG_PHONE                  0\n",
              "FLAG_EMAIL                  0\n",
              "OCCUPATION_TYPE        134203\n",
              "CNT_FAM_MEMBERS             0\n",
              "dtype: int64"
            ]
          },
          "execution_count": 52,
          "metadata": {},
          "output_type": "execute_result"
        }
      ],
      "source": [
        "# Verificando se temos dados faltantes\n",
        "df.isnull().sum()\n"
      ]
    },
    {
      "cell_type": "code",
      "execution_count": 53,
      "metadata": {
        "colab": {
          "base_uri": "https://localhost:8080/"
        },
        "id": "oL_BqZjO-sq2",
        "outputId": "3ba701b7-4274-47f5-8cbf-ca0fd5a613aa"
      },
      "outputs": [
        {
          "data": {
            "text/plain": [
              "264685                 Managers\n",
              "157762           Security staff\n",
              "208594                 Managers\n",
              "425664                      NaN\n",
              "67567     Private service staff\n",
              "Name: OCCUPATION_TYPE, dtype: object"
            ]
          },
          "execution_count": 53,
          "metadata": {},
          "output_type": "execute_result"
        }
      ],
      "source": [
        "# Verificando os dados da coluna OCCUPATION_TYPE\n",
        "df.OCCUPATION_TYPE.sample(5)\n"
      ]
    },
    {
      "cell_type": "code",
      "execution_count": 54,
      "metadata": {
        "id": "yr7dd7VTNtk7"
      },
      "outputs": [],
      "source": [
        "# Removendo os dados nulos\n",
        "df.dropna(axis=0, inplace=True)\n"
      ]
    },
    {
      "cell_type": "code",
      "execution_count": 55,
      "metadata": {
        "colab": {
          "base_uri": "https://localhost:8080/"
        },
        "id": "mjvqtbduN1Fi",
        "outputId": "11a18898-7903-4e10-934b-a345509e225b"
      },
      "outputs": [
        {
          "data": {
            "text/plain": [
              "ID                     0\n",
              "CODE_GENDER            0\n",
              "FLAG_OWN_CAR           0\n",
              "FLAG_OWN_REALTY        0\n",
              "CNT_CHILDREN           0\n",
              "AMT_INCOME_TOTAL       0\n",
              "NAME_INCOME_TYPE       0\n",
              "NAME_EDUCATION_TYPE    0\n",
              "NAME_FAMILY_STATUS     0\n",
              "NAME_HOUSING_TYPE      0\n",
              "DAYS_BIRTH             0\n",
              "DAYS_EMPLOYED          0\n",
              "FLAG_MOBIL             0\n",
              "FLAG_WORK_PHONE        0\n",
              "FLAG_PHONE             0\n",
              "FLAG_EMAIL             0\n",
              "OCCUPATION_TYPE        0\n",
              "CNT_FAM_MEMBERS        0\n",
              "dtype: int64"
            ]
          },
          "execution_count": 55,
          "metadata": {},
          "output_type": "execute_result"
        }
      ],
      "source": [
        "# Verificando se temos dados faltantes\n",
        "df.isnull().sum()\n"
      ]
    },
    {
      "cell_type": "code",
      "execution_count": 56,
      "metadata": {
        "colab": {
          "base_uri": "https://localhost:8080/"
        },
        "id": "RJ536yGIZ-uX",
        "outputId": "6b710078-e298-449c-b2dc-73430389e976"
      },
      "outputs": [
        {
          "data": {
            "text/plain": [
              "True"
            ]
          },
          "execution_count": 56,
          "metadata": {},
          "output_type": "execute_result"
        }
      ],
      "source": [
        "# Checando os ID's duplicados\n",
        "df['ID'].unique().shape[0] != df['ID'].shape[0]\n"
      ]
    },
    {
      "cell_type": "code",
      "execution_count": 57,
      "metadata": {
        "id": "g3ouJlA_bUGF"
      },
      "outputs": [],
      "source": [
        "# Removendo os ID's duplicados\n",
        "df.drop_duplicates('ID', keep='last', inplace=True)\n"
      ]
    },
    {
      "cell_type": "code",
      "execution_count": 58,
      "metadata": {
        "colab": {
          "base_uri": "https://localhost:8080/"
        },
        "id": "CvGrV3Vvb0sh",
        "outputId": "20a2a8d8-f767-4ee1-d1de-25b49e6cae51"
      },
      "outputs": [
        {
          "data": {
            "text/plain": [
              "N    178230\n",
              "Y    126101\n",
              "Name: FLAG_OWN_CAR, dtype: int64"
            ]
          },
          "execution_count": 58,
          "metadata": {},
          "output_type": "execute_result"
        }
      ],
      "source": [
        "# Quantos clientes tem carro ?\n",
        "df['FLAG_OWN_CAR'].value_counts()\n"
      ]
    },
    {
      "cell_type": "code",
      "execution_count": 59,
      "metadata": {
        "colab": {
          "base_uri": "https://localhost:8080/",
          "height": 345
        },
        "id": "liL9D0ItLFYV",
        "outputId": "28a65b9f-8282-4926-dd65-3b62a5b6fd74"
      },
      "outputs": [
        {
          "data": {
            "image/png": "[encoded data removed]",
            "text/plain": [
              "<Figure size 576x396 with 1 Axes>"
            ]
          },
          "metadata": {},
          "output_type": "display_data"
        }
      ],
      "source": [
        "# Gráfico\n",
        "plt.pie(df['FLAG_OWN_CAR'].value_counts(),\n",
        "        labels=['Yes', 'No'], autopct='%1.2f%%')\n",
        "plt.title('Usuários tiverem um carro checado')\n",
        "plt.show()\n"
      ]
    },
    {
      "cell_type": "code",
      "execution_count": 60,
      "metadata": {
        "colab": {
          "base_uri": "https://localhost:8080/"
        },
        "id": "H4iqUReqL3lX",
        "outputId": "7a2f0924-3fe9-47f0-f9b5-f5c0dd1b03b9"
      },
      "outputs": [
        {
          "data": {
            "text/plain": [
              "Y    207657\n",
              "N     96674\n",
              "Name: FLAG_OWN_REALTY, dtype: int64"
            ]
          },
          "execution_count": 60,
          "metadata": {},
          "output_type": "execute_result"
        }
      ],
      "source": [
        "# Quantos clientes tem alguma propriedade ?\n",
        "df['FLAG_OWN_REALTY'].value_counts()\n"
      ]
    },
    {
      "cell_type": "code",
      "execution_count": 61,
      "metadata": {
        "colab": {
          "base_uri": "https://localhost:8080/",
          "height": 345
        },
        "id": "aY7rS5q2L491",
        "outputId": "d232fb79-b3e4-415c-e97a-d6013e6e7b6c"
      },
      "outputs": [
        {
          "data": {
            "image/png": "[encoded data removed]",
            "text/plain": [
              "<Figure size 576x396 with 1 Axes>"
            ]
          },
          "metadata": {},
          "output_type": "display_data"
        }
      ],
      "source": [
        "# Gráfico\n",
        "plt.pie(df['FLAG_OWN_REALTY'].value_counts(),\n",
        "        labels=['Yes', 'No'], autopct='%1.2f%%')\n",
        "plt.title('Usuários que tem alguma propriedade')\n",
        "plt.show()\n"
      ]
    },
    {
      "cell_type": "code",
      "execution_count": 62,
      "metadata": {
        "colab": {
          "base_uri": "https://localhost:8080/"
        },
        "id": "HnvLi8gsL42p",
        "outputId": "157c0ce5-717d-492d-d1d5-86639cf7d1d0"
      },
      "outputs": [
        {
          "data": {
            "text/plain": [
              "Working                 190206\n",
              "Commercial associate     84002\n",
              "State servant            29975\n",
              "Pensioner                  136\n",
              "Student                     12\n",
              "Name: NAME_INCOME_TYPE, dtype: int64"
            ]
          },
          "execution_count": 62,
          "metadata": {},
          "output_type": "execute_result"
        }
      ],
      "source": [
        "# Categoria de renda\n",
        "df['NAME_INCOME_TYPE'].value_counts()\n"
      ]
    },
    {
      "cell_type": "code",
      "execution_count": 63,
      "metadata": {
        "colab": {
          "base_uri": "https://localhost:8080/",
          "height": 376
        },
        "id": "eSefSdRGL4ut",
        "outputId": "5442b08b-409e-462e-b466-4275b8203ce5"
      },
      "outputs": [
        {
          "data": {
            "text/plain": [
              "Text(0, 0.5, 'Categoria')"
            ]
          },
          "execution_count": 63,
          "metadata": {},
          "output_type": "execute_result"
        },
        {
          "data": {
            "image/png": "[encoded data removed]",
            "text/plain": [
              "<Figure size 576x396 with 1 Axes>"
            ]
          },
          "metadata": {},
          "output_type": "display_data"
        }
      ],
      "source": [
        "df[\"NAME_INCOME_TYPE\"].value_counts().sort_values(\n",
        "    ascending=True).plot.barh(title=\"Quantidade de clientes por categoria\")\n",
        "plt.xlabel(\"Quantidade de clientes\")\n",
        "plt.ylabel(\"Categoria\")\n"
      ]
    },
    {
      "cell_type": "code",
      "execution_count": 64,
      "metadata": {
        "colab": {
          "base_uri": "https://localhost:8080/"
        },
        "id": "qz7eYstlMjV1",
        "outputId": "be14d675-e19a-4f15-b8b8-dd682ae5b18b"
      },
      "outputs": [
        {
          "data": {
            "text/plain": [
              "Secondary / secondary special    204779\n",
              "Higher education                  85655\n",
              "Incomplete higher                 11633\n",
              "Lower secondary                    2039\n",
              "Academic degree                     225\n",
              "Name: NAME_EDUCATION_TYPE, dtype: int64"
            ]
          },
          "execution_count": 64,
          "metadata": {},
          "output_type": "execute_result"
        }
      ],
      "source": [
        "# Nível de educação\n",
        "df['NAME_EDUCATION_TYPE'].value_counts()\n"
      ]
    },
    {
      "cell_type": "code",
      "execution_count": 65,
      "metadata": {
        "colab": {
          "base_uri": "https://localhost:8080/",
          "height": 376
        },
        "id": "aLUDBW_NMjTB",
        "outputId": "1eaa863e-ec1b-4f1e-e938-4e4939ef0612"
      },
      "outputs": [
        {
          "data": {
            "text/plain": [
              "Text(0, 0.5, 'Nível de educação')"
            ]
          },
          "execution_count": 65,
          "metadata": {},
          "output_type": "execute_result"
        },
        {
          "data": {
            "image/png": "[encoded data removed]",
            "text/plain": [
              "<Figure size 576x396 with 1 Axes>"
            ]
          },
          "metadata": {},
          "output_type": "display_data"
        }
      ],
      "source": [
        "df[\"NAME_EDUCATION_TYPE\"].value_counts().sort_values(ascending=True).plot.barh(\n",
        "    title=\"Quantidade de clientes por Nível de educação\")\n",
        "plt.xlabel(\"Quantidade de clientes\")\n",
        "plt.ylabel(\"Nível de educação\")\n"
      ]
    },
    {
      "cell_type": "code",
      "execution_count": 66,
      "metadata": {
        "colab": {
          "base_uri": "https://localhost:8080/"
        },
        "id": "0FDbsVFoMjQU",
        "outputId": "8edf2ade-9ad0-4c8e-aeda-e95ff38bc863"
      },
      "outputs": [
        {
          "data": {
            "text/plain": [
              "Married                 212703\n",
              "Single / not married     39647\n",
              "Civil marriage           26799\n",
              "Separated                18470\n",
              "Widow                     6712\n",
              "Name: NAME_FAMILY_STATUS, dtype: int64"
            ]
          },
          "execution_count": 66,
          "metadata": {},
          "output_type": "execute_result"
        }
      ],
      "source": [
        "# Estado civil\n",
        "df['NAME_FAMILY_STATUS'].value_counts()\n"
      ]
    },
    {
      "cell_type": "code",
      "execution_count": 67,
      "metadata": {
        "colab": {
          "base_uri": "https://localhost:8080/",
          "height": 376
        },
        "id": "gaLQu5MlMi-e",
        "outputId": "2548eb99-3cf9-4359-cefc-16a8b14b6d13"
      },
      "outputs": [
        {
          "data": {
            "text/plain": [
              "Text(0, 0.5, 'Estado civil')"
            ]
          },
          "execution_count": 67,
          "metadata": {},
          "output_type": "execute_result"
        },
        {
          "data": {
            "image/png": "[encoded data removed]",
            "text/plain": [
              "<Figure size 576x396 with 1 Axes>"
            ]
          },
          "metadata": {},
          "output_type": "display_data"
        }
      ],
      "source": [
        "df[\"NAME_FAMILY_STATUS\"].value_counts().sort_values(\n",
        "    ascending=True).plot.barh(title=\"Quantidade de clientes por Estado civil\")\n",
        "plt.xlabel(\"Quantidade de clientes\")\n",
        "plt.ylabel(\"Estado civil\")\n"
      ]
    },
    {
      "cell_type": "code",
      "execution_count": 68,
      "metadata": {
        "colab": {
          "base_uri": "https://localhost:8080/"
        },
        "id": "UqJ6cf2k2Y5V",
        "outputId": "eaa4db6f-ff8e-4365-f072-4441a5ba11cc"
      },
      "outputs": [
        {
          "data": {
            "text/plain": [
              "count    304331.000000\n",
              "mean          0.510967\n",
              "std           0.765499\n",
              "min           0.000000\n",
              "25%           0.000000\n",
              "50%           0.000000\n",
              "75%           1.000000\n",
              "max          19.000000\n",
              "Name: CNT_CHILDREN, dtype: float64"
            ]
          },
          "execution_count": 68,
          "metadata": {},
          "output_type": "execute_result"
        }
      ],
      "source": [
        "# Número de filhos\n",
        "df[\"CNT_CHILDREN\"].describe()\n"
      ]
    },
    {
      "cell_type": "code",
      "execution_count": 69,
      "metadata": {
        "colab": {
          "base_uri": "https://localhost:8080/",
          "height": 347
        },
        "id": "WLoMtTlT2nvj",
        "outputId": "51f02b9f-3986-40e4-b066-c830566a2c82"
      },
      "outputs": [
        {
          "data": {
            "image/png": "[encoded data removed]",
            "text/plain": [
              "<Figure size 576x396 with 1 Axes>"
            ]
          },
          "metadata": {},
          "output_type": "display_data"
        }
      ],
      "source": [
        "plt.boxplot(df[\"CNT_CHILDREN\"])\n"
      ]
    },
    {
      "cell_type": "code",
      "execution_count": 70,
      "metadata": {
        "colab": {
          "base_uri": "https://localhost:8080/",
          "height": 347
        },
        "id": "vqG1I-2u221k",
        "outputId": "cc9ff314-08e1-496b-cd25-8f5cf03d603a"
      },
      "outputs": [
        {
          "data": {
            "image/png": "[encoded data removed]",
            "text/plain": [
              "<Figure size 576x396 with 1 Axes>"
            ]
          },
          "metadata": {},
          "output_type": "display_data"
        }
      ],
      "source": [
        "plt.hist(df[\"CNT_CHILDREN\"])\n"
      ]
    },
    {
      "cell_type": "code",
      "execution_count": 71,
      "metadata": {
        "colab": {
          "base_uri": "https://localhost:8080/",
          "height": 358
        },
        "id": "evVP2xP63aNL",
        "outputId": "4a198021-8848-4963-ade8-1f88870ac3e8"
      },
      "outputs": [
        {
          "data": {
            "image/png": "[encoded data removed]",
            "text/plain": [
              "<Figure size 576x396 with 1 Axes>"
            ]
          },
          "metadata": {},
          "output_type": "display_data"
        }
      ],
      "source": [
        "# Rendimento anual\n",
        "plt.boxplot(df[\"AMT_INCOME_TOTAL\"])\n"
      ]
    },
    {
      "cell_type": "code",
      "execution_count": 72,
      "metadata": {
        "colab": {
          "base_uri": "https://localhost:8080/"
        },
        "id": "YGavGHWf340C",
        "outputId": "9e5bb003-c177-4221-e214-343683f42e6a"
      },
      "outputs": [
        {
          "data": {
            "text/plain": [
              "count    3.043310e+05\n",
              "mean     1.948670e+05\n",
              "std      1.169674e+05\n",
              "min      2.700000e+04\n",
              "25%      1.350000e+05\n",
              "50%      1.800000e+05\n",
              "75%      2.250000e+05\n",
              "max      6.750000e+06\n",
              "Name: AMT_INCOME_TOTAL, dtype: float64"
            ]
          },
          "execution_count": 72,
          "metadata": {},
          "output_type": "execute_result"
        }
      ],
      "source": [
        "df[\"AMT_INCOME_TOTAL\"].describe()\n"
      ]
    },
    {
      "cell_type": "code",
      "execution_count": 73,
      "metadata": {
        "colab": {
          "base_uri": "https://localhost:8080/",
          "height": 457
        },
        "id": "5it3ZZzZL4jD",
        "outputId": "92ccb821-7d0b-4ace-8e07-37023114148d"
      },
      "outputs": [
        {
          "data": {
            "text/plain": [
              "(array([ 0,  1,  2,  3,  4,  5,  6,  7,  8,  9, 10, 11, 12, 13, 14, 15, 16,\n",
              "        17]),\n",
              " [Text(0, 0, 'Security staff'),\n",
              "  Text(1, 0, 'Sales staff'),\n",
              "  Text(2, 0, 'Accountants'),\n",
              "  Text(3, 0, 'Laborers'),\n",
              "  Text(4, 0, 'Managers'),\n",
              "  Text(5, 0, 'Drivers'),\n",
              "  Text(6, 0, 'Core staff'),\n",
              "  Text(7, 0, 'High skill tech staff'),\n",
              "  Text(8, 0, 'Cleaning staff'),\n",
              "  Text(9, 0, 'Private service staff'),\n",
              "  Text(10, 0, 'Cooking staff'),\n",
              "  Text(11, 0, 'Low-skill Laborers'),\n",
              "  Text(12, 0, 'Medicine staff'),\n",
              "  Text(13, 0, 'Secretaries'),\n",
              "  Text(14, 0, 'Waiters/barmen staff'),\n",
              "  Text(15, 0, 'HR staff'),\n",
              "  Text(16, 0, 'Realty agents'),\n",
              "  Text(17, 0, 'IT staff')])"
            ]
          },
          "execution_count": 73,
          "metadata": {},
          "output_type": "execute_result"
        },
        {
          "data": {
            "image/png": "[encoded data removed]",
            "text/plain": [
              "<Figure size 720x360 with 1 Axes>"
            ]
          },
          "metadata": {},
          "output_type": "display_data"
        }
      ],
      "source": [
        "# Consumo por profissão\n",
        "plt.figure(figsize=(10, 5))\n",
        "ax = sns.barplot(x=\"OCCUPATION_TYPE\", y=\"AMT_INCOME_TOTAL\",\n",
        "                 data=df).set_title('Consumo por profissão')\n",
        "plt.xticks(rotation=60)\n"
      ]
    }
  ],
  "metadata": {
    "colab": {
      "collapsed_sections": [],
      "name": "Untitled0.ipynb",
      "provenance": []
    },
    "interpreter": {
      "hash": "916dbcbb3f70747c44a77c7bcd40155683ae19c65e1c03b4aa3499c5328201f1"
    },
    "kernelspec": {
      "display_name": "Python 3.8.10 64-bit",
      "name": "python3"
    },
    "language_info": {
      "codemirror_mode": {
        "name": "ipython",
        "version": 3
      },
      "file_extension": ".py",
      "mimetype": "text/x-python",
      "name": "python",
      "nbconvert_exporter": "python",
      "pygments_lexer": "ipython3",
      "version": "3.8.10"
    }
  },
  "nbformat": 4,
  "nbformat_minor": 2
}
